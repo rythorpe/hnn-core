{
 "cells": [
  {
   "cell_type": "code",
   "execution_count": 1,
   "metadata": {},
   "outputs": [],
   "source": [
    "from collections import OrderedDict\n",
    "from functools import partial\n",
    "\n",
    "import numpy as np\n",
    "import matplotlib.pyplot as plt\n",
    "import seaborn as sns\n",
    "\n",
    "from skopt import gp_minimize\n",
    "from skopt.plots import plot_convergence, plot_objective\n",
    "\n",
    "from hnn_core.network_models import L6_model\n",
    "from optimization import (plot_net_response, plot_spiking_profiles,\n",
    "                          simulate_network, opt_baseline_spike_rates)"
   ]
  },
  {
   "cell_type": "code",
   "execution_count": 2,
   "metadata": {},
   "outputs": [],
   "source": [
    "# user parameters\n",
    "\n",
    "# note that basket cells and pyramidal cells require different amounts of AMPA\n",
    "# excitatory current in order to drive a spike\n",
    "poiss_weights_0 = OrderedDict(L2_basket=1e-3, L2_pyramidal=2e-3,\n",
    "                              L5_basket=1e-3, L5_pyramidal=2e-3,\n",
    "                              L6_basket=1e-3, L6_pyramidal=2e-3)\n",
    "# 1 kHz as in Billeh et al. 2020 is too fast for this size of network\n",
    "# decreasing to 10 Hz seems to allow for random single-cell events in a\n",
    "# disconnected network\n",
    "poiss_rate_0 = 1e1\n",
    "\n",
    "sim_time = 600  # ms\n",
    "burn_in_time = 200  # ms\n",
    "n_procs = 6\n",
    "\n",
    "# log_10 scale\n",
    "min_weight, max_weight = -5., -1.\n",
    "# real number scale\n",
    "min_lamtha, max_lamtha = 1., 100.\n",
    "min_rate, max_rate = 1., 100.\n",
    "\n",
    "# opt parameters\n",
    "opt_n_total_calls = 20\n",
    "opt_n_init_points = 10\n",
    "\n",
    "net_original = L6_model(connect_layer_6=True, legacy_mode=False,\n",
    "                        grid_shape=(10, 10))\n",
    "\n",
    "np.random.seed(1)"
   ]
  },
  {
   "cell_type": "code",
   "execution_count": 3,
   "metadata": {},
   "outputs": [],
   "source": [
    "# get initial params prior to optimization\n",
    "#opt_params_0 = get_conn_params(net_original.connectivity)\n",
    "# poisson drive synaptic weight initial conditions\n",
    "opt_params_0 = [np.log10(weight) for weight in poiss_weights_0.values()]\n",
    "# poisson drive rate constant initial conditions\n",
    "opt_params_0.append(poiss_rate_0)\n",
    "# poisson drive synaptic weight bounds\n",
    "opt_params_bounds = np.tile([min_weight, max_weight],\n",
    "                            (len(poiss_weights_0), 1)).tolist()\n",
    "# poisson drive rate constant bounds\n",
    "opt_params_bounds.append([min_rate, max_rate])"
   ]
  },
  {
   "cell_type": "code",
   "execution_count": 4,
   "metadata": {},
   "outputs": [
    {
     "name": "stdout",
     "output_type": "stream",
     "text": [
      "Iteration No: 1 started. Evaluating function at provided point.\n",
      "simulating disconnected network\n",
      "MPI will run 1 trial(s) sequentially by distributing network neurons over 6 processes.\n"
     ]
    },
    {
     "name": "stderr",
     "output_type": "stream",
     "text": [
      "/home/ryan/hnn-core/hnn_core/dipole.py:64: UserWarning: No connections instantiated in network. Consider using net = jones_2009_model() or net = law_2021_model() to create a predefined network from published models.\n",
      "  warnings.warn('No connections instantiated in network. Consider using '\n",
      "/home/ryan/hnn-core/hnn_core/dipole.py:70: UserWarning: No external drives loaded\n",
      "  warnings.warn('No external drives loaded', UserWarning)\n"
     ]
    },
    {
     "name": "stdout",
     "output_type": "stream",
     "text": [
      "numprocs=6\n",
      "Loading custom mechanism files from /home/ryan/hnn-core/hnn_core/mod/x86_64/.libs/libnrnmech.so\n",
      "Building the NEURON model\n",
      "Loading custom mechanism files from /home/ryan/hnn-core/hnn_core/mod/x86_64/.libs/libnrnmech.so\n",
      "Loading custom mechanism files from /home/ryan/hnn-core/hnn_core/mod/x86_64/.libs/libnrnmech.so\n",
      "Loading custom mechanism files from /home/ryan/hnn-core/hnn_core/mod/x86_64/.libs/libnrnmech.so\n",
      "Loading custom mechanism files from /home/ryan/hnn-core/hnn_core/mod/x86_64/.libs/libnrnmech.so\n",
      "Loading custom mechanism files from /home/ryan/hnn-core/hnn_core/mod/x86_64/.libs/libnrnmech.so\n",
      "[Done]\n",
      "Trial 1: 0.03 ms...\n",
      "Trial 1: 10.0 ms...\n",
      "Trial 1: 20.0 ms...\n",
      "Trial 1: 30.0 ms...\n",
      "Trial 1: 40.0 ms...\n",
      "Trial 1: 50.0 ms...\n",
      "Trial 1: 60.0 ms...\n",
      "Trial 1: 70.0 ms...\n",
      "Trial 1: 80.0 ms...\n",
      "Trial 1: 90.0 ms...\n",
      "Trial 1: 100.0 ms...\n",
      "Trial 1: 110.0 ms...\n",
      "Trial 1: 120.0 ms...\n",
      "Trial 1: 130.0 ms...\n",
      "Trial 1: 140.0 ms...\n",
      "Trial 1: 150.0 ms...\n",
      "Trial 1: 160.0 ms...\n",
      "Trial 1: 170.0 ms...\n",
      "Trial 1: 180.0 ms...\n",
      "Trial 1: 190.0 ms...\n",
      "Trial 1: 200.0 ms...\n",
      "Trial 1: 210.0 ms...\n",
      "Trial 1: 220.0 ms...\n",
      "Trial 1: 230.0 ms...\n",
      "Trial 1: 240.0 ms...\n",
      "Trial 1: 250.0 ms...\n"
     ]
    },
    {
     "name": "stderr",
     "output_type": "stream",
     "text": [
      "/home/ryan/hnn-core/hnn_core/parallel_backends.py:200: UserWarning: Received KeyboardInterrupt. Stopping simulation process...\n",
      "  warn(\"Received KeyboardInterrupt. Stopping simulation process...\")\n"
     ]
    },
    {
     "ename": "KeyboardInterrupt",
     "evalue": "",
     "output_type": "error",
     "traceback": [
      "\u001b[0;31m---------------------------------------------------------------------------\u001b[0m",
      "\u001b[0;31mKeyboardInterrupt\u001b[0m                         Traceback (most recent call last)",
      "\u001b[1;32m/home/ryan/hnn-core/rs_dd_project/opt_poiss_drive.ipynb Cell 4\u001b[0m in \u001b[0;36m<cell line: 8>\u001b[0;34m()\u001b[0m\n\u001b[1;32m      <a href='vscode-notebook-cell:/home/ryan/hnn-core/rs_dd_project/opt_poiss_drive.ipynb#W2sZmlsZQ%3D%3D?line=3'>4</a>\u001b[0m opt_min_func \u001b[39m=\u001b[39m partial(opt_baseline_spike_rates, net\u001b[39m=\u001b[39mnet_original\u001b[39m.\u001b[39mcopy(),\n\u001b[1;32m      <a href='vscode-notebook-cell:/home/ryan/hnn-core/rs_dd_project/opt_poiss_drive.ipynb#W2sZmlsZQ%3D%3D?line=4'>5</a>\u001b[0m                        sim_params\u001b[39m=\u001b[39msim_params)\n\u001b[1;32m      <a href='vscode-notebook-cell:/home/ryan/hnn-core/rs_dd_project/opt_poiss_drive.ipynb#W2sZmlsZQ%3D%3D?line=6'>7</a>\u001b[0m \u001b[39m# optimize\u001b[39;00m\n\u001b[0;32m----> <a href='vscode-notebook-cell:/home/ryan/hnn-core/rs_dd_project/opt_poiss_drive.ipynb#W2sZmlsZQ%3D%3D?line=7'>8</a>\u001b[0m opt_results \u001b[39m=\u001b[39m gp_minimize(func\u001b[39m=\u001b[39;49mopt_min_func,\n\u001b[1;32m      <a href='vscode-notebook-cell:/home/ryan/hnn-core/rs_dd_project/opt_poiss_drive.ipynb#W2sZmlsZQ%3D%3D?line=8'>9</a>\u001b[0m                           dimensions\u001b[39m=\u001b[39;49mopt_params_bounds,\n\u001b[1;32m     <a href='vscode-notebook-cell:/home/ryan/hnn-core/rs_dd_project/opt_poiss_drive.ipynb#W2sZmlsZQ%3D%3D?line=9'>10</a>\u001b[0m                           x0\u001b[39m=\u001b[39;49mopt_params_0,\n\u001b[1;32m     <a href='vscode-notebook-cell:/home/ryan/hnn-core/rs_dd_project/opt_poiss_drive.ipynb#W2sZmlsZQ%3D%3D?line=10'>11</a>\u001b[0m                           n_calls\u001b[39m=\u001b[39;49mopt_n_total_calls,  \u001b[39m# >5**n_params\u001b[39;49;00m\n\u001b[1;32m     <a href='vscode-notebook-cell:/home/ryan/hnn-core/rs_dd_project/opt_poiss_drive.ipynb#W2sZmlsZQ%3D%3D?line=11'>12</a>\u001b[0m                           n_initial_points\u001b[39m=\u001b[39;49mopt_n_init_points,  \u001b[39m# 5**n_params\u001b[39;49;00m\n\u001b[1;32m     <a href='vscode-notebook-cell:/home/ryan/hnn-core/rs_dd_project/opt_poiss_drive.ipynb#W2sZmlsZQ%3D%3D?line=12'>13</a>\u001b[0m                           initial_point_generator\u001b[39m=\u001b[39;49m\u001b[39m'\u001b[39;49m\u001b[39mlhs\u001b[39;49m\u001b[39m'\u001b[39;49m,  \u001b[39m# sobol; params<40\u001b[39;49;00m\n\u001b[1;32m     <a href='vscode-notebook-cell:/home/ryan/hnn-core/rs_dd_project/opt_poiss_drive.ipynb#W2sZmlsZQ%3D%3D?line=13'>14</a>\u001b[0m                           acq_optimizer\u001b[39m=\u001b[39;49m\u001b[39m'\u001b[39;49m\u001b[39msampling\u001b[39;49m\u001b[39m'\u001b[39;49m,\n\u001b[1;32m     <a href='vscode-notebook-cell:/home/ryan/hnn-core/rs_dd_project/opt_poiss_drive.ipynb#W2sZmlsZQ%3D%3D?line=14'>15</a>\u001b[0m                           verbose\u001b[39m=\u001b[39;49m\u001b[39mTrue\u001b[39;49;00m,\n\u001b[1;32m     <a href='vscode-notebook-cell:/home/ryan/hnn-core/rs_dd_project/opt_poiss_drive.ipynb#W2sZmlsZQ%3D%3D?line=15'>16</a>\u001b[0m                           random_state\u001b[39m=\u001b[39;49m\u001b[39m1234\u001b[39;49m)\n\u001b[1;32m     <a href='vscode-notebook-cell:/home/ryan/hnn-core/rs_dd_project/opt_poiss_drive.ipynb#W2sZmlsZQ%3D%3D?line=16'>17</a>\u001b[0m opt_params \u001b[39m=\u001b[39m opt_results\u001b[39m.\u001b[39mx\n\u001b[1;32m     <a href='vscode-notebook-cell:/home/ryan/hnn-core/rs_dd_project/opt_poiss_drive.ipynb#W2sZmlsZQ%3D%3D?line=17'>18</a>\u001b[0m \u001b[39mprint\u001b[39m(\u001b[39mf\u001b[39m\u001b[39m'\u001b[39m\u001b[39mpoiss_weights: \u001b[39m\u001b[39m{\u001b[39;00m[\u001b[39m10\u001b[39m \u001b[39m*\u001b[39m\u001b[39m*\u001b[39m param \u001b[39mfor\u001b[39;00m param \u001b[39min\u001b[39;00m opt_params[:\u001b[39m-\u001b[39m\u001b[39m1\u001b[39m]]\u001b[39m}\u001b[39;00m\u001b[39m'\u001b[39m)\n",
      "File \u001b[0;32m~/anaconda3/envs/hnn_core/lib/python3.8/site-packages/skopt/optimizer/gp.py:259\u001b[0m, in \u001b[0;36mgp_minimize\u001b[0;34m(func, dimensions, base_estimator, n_calls, n_random_starts, n_initial_points, initial_point_generator, acq_func, acq_optimizer, x0, y0, random_state, verbose, callback, n_points, n_restarts_optimizer, xi, kappa, noise, n_jobs, model_queue_size)\u001b[0m\n\u001b[1;32m    254\u001b[0m \u001b[39mif\u001b[39;00m base_estimator \u001b[39mis\u001b[39;00m \u001b[39mNone\u001b[39;00m:\n\u001b[1;32m    255\u001b[0m     base_estimator \u001b[39m=\u001b[39m cook_estimator(\n\u001b[1;32m    256\u001b[0m         \u001b[39m\"\u001b[39m\u001b[39mGP\u001b[39m\u001b[39m\"\u001b[39m, space\u001b[39m=\u001b[39mspace, random_state\u001b[39m=\u001b[39mrng\u001b[39m.\u001b[39mrandint(\u001b[39m0\u001b[39m, np\u001b[39m.\u001b[39miinfo(np\u001b[39m.\u001b[39mint32)\u001b[39m.\u001b[39mmax),\n\u001b[1;32m    257\u001b[0m         noise\u001b[39m=\u001b[39mnoise)\n\u001b[0;32m--> 259\u001b[0m \u001b[39mreturn\u001b[39;00m base_minimize(\n\u001b[1;32m    260\u001b[0m     func, space, base_estimator\u001b[39m=\u001b[39;49mbase_estimator,\n\u001b[1;32m    261\u001b[0m     acq_func\u001b[39m=\u001b[39;49macq_func,\n\u001b[1;32m    262\u001b[0m     xi\u001b[39m=\u001b[39;49mxi, kappa\u001b[39m=\u001b[39;49mkappa, acq_optimizer\u001b[39m=\u001b[39;49macq_optimizer, n_calls\u001b[39m=\u001b[39;49mn_calls,\n\u001b[1;32m    263\u001b[0m     n_points\u001b[39m=\u001b[39;49mn_points, n_random_starts\u001b[39m=\u001b[39;49mn_random_starts,\n\u001b[1;32m    264\u001b[0m     n_initial_points\u001b[39m=\u001b[39;49mn_initial_points,\n\u001b[1;32m    265\u001b[0m     initial_point_generator\u001b[39m=\u001b[39;49minitial_point_generator,\n\u001b[1;32m    266\u001b[0m     n_restarts_optimizer\u001b[39m=\u001b[39;49mn_restarts_optimizer,\n\u001b[1;32m    267\u001b[0m     x0\u001b[39m=\u001b[39;49mx0, y0\u001b[39m=\u001b[39;49my0, random_state\u001b[39m=\u001b[39;49mrng, verbose\u001b[39m=\u001b[39;49mverbose,\n\u001b[1;32m    268\u001b[0m     callback\u001b[39m=\u001b[39;49mcallback, n_jobs\u001b[39m=\u001b[39;49mn_jobs, model_queue_size\u001b[39m=\u001b[39;49mmodel_queue_size)\n",
      "File \u001b[0;32m~/anaconda3/envs/hnn_core/lib/python3.8/site-packages/skopt/optimizer/base.py:282\u001b[0m, in \u001b[0;36mbase_minimize\u001b[0;34m(func, dimensions, base_estimator, n_calls, n_random_starts, n_initial_points, initial_point_generator, acq_func, acq_optimizer, x0, y0, random_state, verbose, callback, n_points, n_restarts_optimizer, xi, kappa, n_jobs, model_queue_size)\u001b[0m\n\u001b[1;32m    280\u001b[0m \u001b[39m# evaluate y0 if only x0 is provided\u001b[39;00m\n\u001b[1;32m    281\u001b[0m \u001b[39mif\u001b[39;00m x0 \u001b[39mand\u001b[39;00m y0 \u001b[39mis\u001b[39;00m \u001b[39mNone\u001b[39;00m:\n\u001b[0;32m--> 282\u001b[0m     y0 \u001b[39m=\u001b[39m \u001b[39mlist\u001b[39;49m(\u001b[39mmap\u001b[39;49m(func, x0))\n\u001b[1;32m    283\u001b[0m     n_calls \u001b[39m-\u001b[39m\u001b[39m=\u001b[39m \u001b[39mlen\u001b[39m(y0)\n\u001b[1;32m    284\u001b[0m \u001b[39m# record through tell function\u001b[39;00m\n",
      "File \u001b[0;32m~/hnn-core/rs_dd_project/optimization.py:179\u001b[0m, in \u001b[0;36mopt_baseline_spike_rates\u001b[0;34m(opt_params, net, sim_params)\u001b[0m\n\u001b[1;32m    173\u001b[0m \u001b[39m# for now we'll make them uniform: 10% of cells will fire per second\u001b[39;00m\n\u001b[1;32m    174\u001b[0m \u001b[39m#target_avg_spike_rates_unconn = {cell: 0.1 for cell in\u001b[39;00m\n\u001b[1;32m    175\u001b[0m \u001b[39m#                                 target_avg_spike_rates.keys()}\u001b[39;00m\n\u001b[1;32m    176\u001b[0m \n\u001b[1;32m    177\u001b[0m \u001b[39m# convert weight param from back from log_10 scale\u001b[39;00m\n\u001b[1;32m    178\u001b[0m poiss_params \u001b[39m=\u001b[39m np\u001b[39m.\u001b[39mappend(\u001b[39m10\u001b[39m \u001b[39m*\u001b[39m\u001b[39m*\u001b[39m opt_params[:\u001b[39m-\u001b[39m\u001b[39m1\u001b[39m], opt_params[\u001b[39m-\u001b[39m\u001b[39m1\u001b[39m])\n\u001b[0;32m--> 179\u001b[0m net_disconn, dpls_disconn \u001b[39m=\u001b[39m simulate_network(net, sim_time, burn_in_time,\n\u001b[1;32m    180\u001b[0m                                              n_procs,\n\u001b[1;32m    181\u001b[0m                                              poiss_params\u001b[39m=\u001b[39;49mpoiss_params,\n\u001b[1;32m    182\u001b[0m                                              conn_params\u001b[39m=\u001b[39;49m\u001b[39mNone\u001b[39;49;00m,\n\u001b[1;32m    183\u001b[0m                                              clear_conn\u001b[39m=\u001b[39;49m\u001b[39mTrue\u001b[39;49;00m,)\n\u001b[1;32m    184\u001b[0m \u001b[39m# note: pass in global variables \"burn_in_time\" and \"sim_time\"\u001b[39;00m\n\u001b[1;32m    185\u001b[0m err \u001b[39m=\u001b[39m err_disconn_spike_rate(net_disconn, sim_time, burn_in_time,\n\u001b[1;32m    186\u001b[0m                              target_avg_spike_rates_unconn)\n",
      "File \u001b[0;32m~/hnn-core/rs_dd_project/optimization.py:122\u001b[0m, in \u001b[0;36msimulate_network\u001b[0;34m(net, sim_time, burn_in_time, n_procs, poiss_params, conn_params, clear_conn)\u001b[0m\n\u001b[1;32m    110\u001b[0m     net\u001b[39m.\u001b[39madd_poisson_drive(name\u001b[39m=\u001b[39m\u001b[39m'\u001b[39m\u001b[39mpoisson_drive\u001b[39m\u001b[39m'\u001b[39m,\n\u001b[1;32m    111\u001b[0m                           rate_constant\u001b[39m=\u001b[39mpoiss_rate,\n\u001b[1;32m    112\u001b[0m                           location\u001b[39m=\u001b[39m\u001b[39m'\u001b[39m\u001b[39msoma\u001b[39m\u001b[39m'\u001b[39m,\n\u001b[0;32m   (...)\u001b[0m\n\u001b[1;32m    118\u001b[0m                           probability\u001b[39m=\u001b[39m\u001b[39m1.0\u001b[39m,\n\u001b[1;32m    119\u001b[0m                           event_seed\u001b[39m=\u001b[39mseed)\n\u001b[1;32m    121\u001b[0m \u001b[39mwith\u001b[39;00m MPIBackend(n_procs\u001b[39m=\u001b[39mn_procs):\n\u001b[0;32m--> 122\u001b[0m     dpls \u001b[39m=\u001b[39m simulate_dipole(net, tstop\u001b[39m=\u001b[39;49msim_time, n_trials\u001b[39m=\u001b[39;49m\u001b[39m1\u001b[39;49m,\n\u001b[1;32m    123\u001b[0m                            baseline_win\u001b[39m=\u001b[39;49m[burn_in_time, sim_time])\n\u001b[1;32m    125\u001b[0m \u001b[39mreturn\u001b[39;00m net, dpls\n",
      "File \u001b[0;32m~/hnn-core/hnn_core/dipole.py:106\u001b[0m, in \u001b[0;36msimulate_dipole\u001b[0;34m(net, tstop, dt, n_trials, record_vsoma, record_isoma, postproc, baseline_win)\u001b[0m\n\u001b[1;32m    101\u001b[0m \u001b[39mif\u001b[39;00m postproc:\n\u001b[1;32m    102\u001b[0m     warnings\u001b[39m.\u001b[39mwarn(\u001b[39m'\u001b[39m\u001b[39mThe postproc-argument is deprecated and will be removed\u001b[39m\u001b[39m'\u001b[39m\n\u001b[1;32m    103\u001b[0m                   \u001b[39m'\u001b[39m\u001b[39m in a future release of hnn-core. Please define \u001b[39m\u001b[39m'\u001b[39m\n\u001b[1;32m    104\u001b[0m                   \u001b[39m'\u001b[39m\u001b[39msmoothing and scaling explicitly using Dipole methods.\u001b[39m\u001b[39m'\u001b[39m,\n\u001b[1;32m    105\u001b[0m                   \u001b[39mDeprecationWarning\u001b[39;00m)\n\u001b[0;32m--> 106\u001b[0m dpls \u001b[39m=\u001b[39m _BACKEND\u001b[39m.\u001b[39;49msimulate(net, tstop, dt, n_trials, postproc, baseline_win)\n\u001b[1;32m    108\u001b[0m \u001b[39mreturn\u001b[39;00m dpls\n",
      "File \u001b[0;32m~/hnn-core/hnn_core/parallel_backends.py:730\u001b[0m, in \u001b[0;36mMPIBackend.simulate\u001b[0;34m(self, net, tstop, dt, n_trials, postproc, baseline_win)\u001b[0m\n\u001b[1;32m    725\u001b[0m \u001b[39mprint\u001b[39m(\u001b[39mf\u001b[39m\u001b[39m\"\u001b[39m\u001b[39mMPI will run \u001b[39m\u001b[39m{\u001b[39;00mn_trials\u001b[39m}\u001b[39;00m\u001b[39m trial(s) sequentially by \u001b[39m\u001b[39m\"\u001b[39m\n\u001b[1;32m    726\u001b[0m       \u001b[39mf\u001b[39m\u001b[39m\"\u001b[39m\u001b[39mdistributing network neurons over \u001b[39m\u001b[39m{\u001b[39;00m\u001b[39mself\u001b[39m\u001b[39m.\u001b[39mn_procs\u001b[39m}\u001b[39;00m\u001b[39m processes.\u001b[39m\u001b[39m\"\u001b[39m)\n\u001b[1;32m    728\u001b[0m env \u001b[39m=\u001b[39m _get_mpi_env()\n\u001b[0;32m--> 730\u001b[0m \u001b[39mself\u001b[39m\u001b[39m.\u001b[39mproc, sim_data \u001b[39m=\u001b[39m run_subprocess(\n\u001b[1;32m    731\u001b[0m     command\u001b[39m=\u001b[39;49m\u001b[39mself\u001b[39;49m\u001b[39m.\u001b[39;49mmpi_cmd, obj\u001b[39m=\u001b[39;49m[net, tstop, dt, n_trials], timeout\u001b[39m=\u001b[39;49m\u001b[39m30\u001b[39;49m,\n\u001b[1;32m    732\u001b[0m     proc_queue\u001b[39m=\u001b[39;49m\u001b[39mself\u001b[39;49m\u001b[39m.\u001b[39;49mproc_queue, env\u001b[39m=\u001b[39;49menv, cwd\u001b[39m=\u001b[39;49mos\u001b[39m.\u001b[39;49mgetcwd(),\n\u001b[1;32m    733\u001b[0m     universal_newlines\u001b[39m=\u001b[39;49m\u001b[39mTrue\u001b[39;49;00m)\n\u001b[1;32m    735\u001b[0m dpls \u001b[39m=\u001b[39m _gather_trial_data(sim_data\u001b[39m=\u001b[39msim_data, net\u001b[39m=\u001b[39mnet,\n\u001b[1;32m    736\u001b[0m                           n_trials\u001b[39m=\u001b[39mn_trials, postproc\u001b[39m=\u001b[39mpostproc,\n\u001b[1;32m    737\u001b[0m                           baseline_win\u001b[39m=\u001b[39mbaseline_win)\n\u001b[1;32m    738\u001b[0m \u001b[39mreturn\u001b[39;00m dpls\n",
      "File \u001b[0;32m~/hnn-core/hnn_core/parallel_backends.py:206\u001b[0m, in \u001b[0;36mrun_subprocess\u001b[0;34m(command, obj, timeout, proc_queue, *args, **kwargs)\u001b[0m\n\u001b[1;32m    204\u001b[0m     event\u001b[39m.\u001b[39mset()  \u001b[39m# close signal\u001b[39;00m\n\u001b[1;32m    205\u001b[0m     out_t\u001b[39m.\u001b[39mjoin()\n\u001b[0;32m--> 206\u001b[0m     err_t\u001b[39m.\u001b[39;49mjoin()\n\u001b[1;32m    208\u001b[0m \u001b[39m# wait for the process to terminate. we need use proc.communicate to\u001b[39;00m\n\u001b[1;32m    209\u001b[0m \u001b[39m# read any output at its end of life.\u001b[39;00m\n\u001b[1;32m    210\u001b[0m \u001b[39mtry\u001b[39;00m:\n",
      "File \u001b[0;32m~/anaconda3/envs/hnn_core/lib/python3.8/threading.py:1011\u001b[0m, in \u001b[0;36mThread.join\u001b[0;34m(self, timeout)\u001b[0m\n\u001b[1;32m   1008\u001b[0m     \u001b[39mraise\u001b[39;00m \u001b[39mRuntimeError\u001b[39;00m(\u001b[39m\"\u001b[39m\u001b[39mcannot join current thread\u001b[39m\u001b[39m\"\u001b[39m)\n\u001b[1;32m   1010\u001b[0m \u001b[39mif\u001b[39;00m timeout \u001b[39mis\u001b[39;00m \u001b[39mNone\u001b[39;00m:\n\u001b[0;32m-> 1011\u001b[0m     \u001b[39mself\u001b[39;49m\u001b[39m.\u001b[39;49m_wait_for_tstate_lock()\n\u001b[1;32m   1012\u001b[0m \u001b[39melse\u001b[39;00m:\n\u001b[1;32m   1013\u001b[0m     \u001b[39m# the behavior of a negative timeout isn't documented, but\u001b[39;00m\n\u001b[1;32m   1014\u001b[0m     \u001b[39m# historically .join(timeout=x) for x<0 has acted as if timeout=0\u001b[39;00m\n\u001b[1;32m   1015\u001b[0m     \u001b[39mself\u001b[39m\u001b[39m.\u001b[39m_wait_for_tstate_lock(timeout\u001b[39m=\u001b[39m\u001b[39mmax\u001b[39m(timeout, \u001b[39m0\u001b[39m))\n",
      "File \u001b[0;32m~/anaconda3/envs/hnn_core/lib/python3.8/threading.py:1027\u001b[0m, in \u001b[0;36mThread._wait_for_tstate_lock\u001b[0;34m(self, block, timeout)\u001b[0m\n\u001b[1;32m   1025\u001b[0m \u001b[39mif\u001b[39;00m lock \u001b[39mis\u001b[39;00m \u001b[39mNone\u001b[39;00m:  \u001b[39m# already determined that the C code is done\u001b[39;00m\n\u001b[1;32m   1026\u001b[0m     \u001b[39massert\u001b[39;00m \u001b[39mself\u001b[39m\u001b[39m.\u001b[39m_is_stopped\n\u001b[0;32m-> 1027\u001b[0m \u001b[39melif\u001b[39;00m lock\u001b[39m.\u001b[39;49macquire(block, timeout):\n\u001b[1;32m   1028\u001b[0m     lock\u001b[39m.\u001b[39mrelease()\n\u001b[1;32m   1029\u001b[0m     \u001b[39mself\u001b[39m\u001b[39m.\u001b[39m_stop()\n",
      "\u001b[0;31mKeyboardInterrupt\u001b[0m: "
     ]
    }
   ],
   "source": [
    "# prepare cost function\n",
    "sim_params = {'sim_time': sim_time, 'burn_in_time': burn_in_time,\n",
    "              'n_procs': n_procs}\n",
    "opt_min_func = partial(opt_baseline_spike_rates, net=net_original.copy(),\n",
    "                       sim_params=sim_params)\n",
    "\n",
    "# optimize\n",
    "opt_results = gp_minimize(func=opt_min_func,\n",
    "                          dimensions=opt_params_bounds,\n",
    "                          x0=opt_params_0,\n",
    "                          n_calls=opt_n_total_calls,  # >5**n_params\n",
    "                          n_initial_points=opt_n_init_points,  # 5**n_params\n",
    "                          initial_point_generator='lhs',  # sobol; params<40\n",
    "                          acq_optimizer='sampling',\n",
    "                          verbose=True,\n",
    "                          random_state=1234)\n",
    "opt_params = opt_results.x\n",
    "print(f'poiss_weights: {[10 ** param for param in opt_params[:-1]]}')\n",
    "print(f'poiss_rate: {opt_params[-1]}')"
   ]
  },
  {
   "cell_type": "code",
   "execution_count": null,
   "metadata": {},
   "outputs": [],
   "source": [
    "# plot results\n",
    "plot_convergence(opt_results, ax=None)\n",
    "ax_obj = plot_objective(opt_results)\n",
    "\n",
    "# pre-optimization\n",
    "# first convert first param back from log_10 scale\n",
    "opt_params_init = [10 ** weight for weight in opt_params_0[:-1]]\n",
    "opt_params_init.append(opt_params_0[-1])\n",
    "net_0, dpls_0 = simulate_network(net_original.copy(), sim_time, burn_in_time,\n",
    "                                 poiss_params=opt_params_init, clear_conn=True)\n",
    "net_response_fig = plot_net_response(dpls_0, net_0, sim_time)\n",
    "sr_profiles_fig = plot_spiking_profiles(net_0, sim_time, burn_in_time)\n",
    "# post-optimization\n",
    "opt_params_final = [10 ** weight for weight in opt_params[:-1]]\n",
    "opt_params_final.append(opt_params[-1])\n",
    "net, dpls = simulate_network(net_original.copy(), sim_time, burn_in_time,\n",
    "                             poiss_params=opt_params_final, clear_conn=True)\n",
    "net_response_fig = plot_net_response(dpls, net, sim_time)\n",
    "sr_profiles_fig = plot_spiking_profiles(net, sim_time, burn_in_time)\n",
    "\n",
    "plt.show()"
   ]
  }
 ],
 "metadata": {
  "kernelspec": {
   "display_name": "Python 3.8.13 ('hnn_core')",
   "language": "python",
   "name": "python3"
  },
  "language_info": {
   "codemirror_mode": {
    "name": "ipython",
    "version": 3
   },
   "file_extension": ".py",
   "mimetype": "text/x-python",
   "name": "python",
   "nbconvert_exporter": "python",
   "pygments_lexer": "ipython3",
   "version": "3.8.13"
  },
  "orig_nbformat": 4,
  "vscode": {
   "interpreter": {
    "hash": "27eb5a56f0b6af5307aa9f70a4e7bdf17e7d6e6de092e5290fed51ef3fe7fb03"
   }
  }
 },
 "nbformat": 4,
 "nbformat_minor": 2
}
